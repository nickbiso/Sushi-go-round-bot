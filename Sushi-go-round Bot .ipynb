{
 "cells": [
  {
   "cell_type": "markdown",
   "metadata": {},
   "source": [
    "### Sushi-go-round Bot"
   ]
  },
  {
   "cell_type": "markdown",
   "metadata": {},
   "source": [
    "This program, once executed, plays the game of Sushi-go-round. It plays it well enough that it can finish the whole game. There is still room for improvement however, I longer interested in further development."
   ]
  },
  {
   "cell_type": "code",
   "execution_count": null,
   "metadata": {},
   "outputs": [],
   "source": [
    "Image(filename='Sample.png') "
   ]
  },
  {
   "cell_type": "markdown",
   "metadata": {},
   "source": [
    "#### Imports"
   ]
  },
  {
   "cell_type": "code",
   "execution_count": null,
   "metadata": {
    "collapsed": true
   },
   "outputs": [],
   "source": [
    "import pyautogui\n",
    "import os\n",
    "import cv2\n",
    "import numpy as np\n",
    "import time\n",
    "import pandas as pd\n",
    "from IPython.display import Image"
   ]
  },
  {
   "cell_type": "markdown",
   "metadata": {},
   "source": [
    "#### Set Home Path"
   ]
  },
  {
   "cell_type": "code",
   "execution_count": null,
   "metadata": {
    "collapsed": true
   },
   "outputs": [],
   "source": [
    "path = 'C:\\\\Users\\\\nickj\\\\jupyter notebooks\\\\Sushi-go-round Bot'\n",
    "os.chdir(path)"
   ]
  },
  {
   "cell_type": "markdown",
   "metadata": {},
   "source": [
    "#### Constants"
   ]
  },
  {
   "cell_type": "markdown",
   "metadata": {},
   "source": [
    "Number of starting ingredients stay the same regardless of the level"
   ]
  },
  {
   "cell_type": "code",
   "execution_count": null,
   "metadata": {
    "collapsed": true
   },
   "outputs": [],
   "source": [
    "ingredients = {'shrimp': 5,\n",
    "                'rice': 10,\n",
    "                'nori': 10,\n",
    "                'roe': 10,\n",
    "                'salmon': 5,\n",
    "                'unagi': 5}"
   ]
  },
  {
   "cell_type": "markdown",
   "metadata": {},
   "source": [
    "Below is the universe of all possible sushi that can be ordered and made"
   ]
  },
  {
   "cell_type": "code",
   "execution_count": null,
   "metadata": {
    "collapsed": true
   },
   "outputs": [],
   "source": [
    "belt_imgs = ['_onigiri.png','_california_roll.png','_salmon_roll.png',\n",
    "                     '_gunkan_maki.png','_shrimp_sushi.png','_unagi_roll.png','_dragon_roll.png',\n",
    "                     '_combo.png']"
   ]
  },
  {
   "cell_type": "markdown",
   "metadata": {},
   "source": [
    "#### Click on image "
   ]
  },
  {
   "cell_type": "markdown",
   "metadata": {},
   "source": [
    "Function that clicks on the image if found on screen. There is an option to be \"persistent\" wherein the the mouse will perform other productive fuctions while waiting for the image to show."
   ]
  },
  {
   "cell_type": "code",
   "execution_count": null,
   "metadata": {
    "collapsed": true
   },
   "outputs": [],
   "source": [
    "def click_image(image,persistent=False):\n",
    "    if persistent == False:\n",
    "        location = pyautogui.locateCenterOnScreen(image)\n",
    "        pyautogui.click(location.x,location.y)\n",
    "    else:\n",
    "        clicked = False\n",
    "        while clicked == False:\n",
    "            try:\n",
    "                location = pyautogui.locateCenterOnScreen(image)\n",
    "                pyautogui.click(location.x,location.y)\n",
    "                clicked = True\n",
    "                print('click success!')\n",
    "            except:\n",
    "                print('looking for:' + str(image))\n",
    "                print('click fail!')\n",
    "                pyautogui.moveTo(444,216)\n",
    "                click_all_poo() \n",
    "                print('click most plates')\n",
    "                pyautogui.click(550,429)\n",
    "                pyautogui.click(650,427)\n",
    "                pyautogui.click(750,427)\n",
    "                pyautogui.click(850,427)    \n",
    "                print('wait 0.1 sec..')\n",
    "                time.sleep(.1)"
   ]
  },
  {
   "cell_type": "code",
   "execution_count": null,
   "metadata": {
    "collapsed": true
   },
   "outputs": [],
   "source": [
    "belt_imgs = ['_onigiri.png','_california_roll.png','_salmon_roll.png',\n",
    "                     '_gunkan_maki.png','_shrimp_sushi.png','_unagi_roll.png','_dragon_roll.png',\n",
    "                     '_combo.png']"
   ]
  },
  {
   "cell_type": "markdown",
   "metadata": {},
   "source": [
    "### _Primary Tasks:_"
   ]
  },
  {
   "cell_type": "markdown",
   "metadata": {},
   "source": [
    "#### Get the DataFrame of customer orders or sushi in the belt"
   ]
  },
  {
   "cell_type": "code",
   "execution_count": null,
   "metadata": {
    "collapsed": true
   },
   "outputs": [],
   "source": [
    "def check_belt_customer(belt_imgs,belt_or_customer):\n",
    "    belt = pd.DataFrame()\n",
    "    \n",
    "    if belt_or_customer == 'belt':\n",
    "        belt_imgs = ['belt' + x  for x in belt_imgs]\n",
    "    elif belt_or_customer == 'customer':\n",
    "        belt_imgs = ['customer' + x  for x in belt_imgs] \n",
    "    \n",
    "    for belt_img in belt_imgs:     \n",
    "        for pos in pyautogui.locateAllOnScreen(belt_img):\n",
    "            if belt_or_customer == 'belt':\n",
    "                belt = belt.append(pd.DataFrame({'type':[belt_img.replace(\"belt\", \"\")],'y_axis':pos.left,'x_axis':pos.top}))\n",
    "            elif belt_or_customer == 'customer':\n",
    "                belt = belt.append(pd.DataFrame({'type':[belt_img.replace(\"customer\", \"\")],'y_axis':pos.left,'x_axis':pos.top}))\n",
    "\n",
    "    return belt"
   ]
  },
  {
   "cell_type": "markdown",
   "metadata": {},
   "source": [
    "#### Subtract whats in the belt with that the customer ordered which leaves us with with the orders we want to work on"
   ]
  },
  {
   "cell_type": "code",
   "execution_count": null,
   "metadata": {
    "collapsed": true
   },
   "outputs": [],
   "source": [
    "def queue_and_belt_match(queue_items,belt_and_queue_items):\n",
    "    print()\n",
    "    print('queue:')\n",
    "    print(queue_items)\n",
    "    print('belt and queue intersection:')\n",
    "    print(belt_and_queue_items)\n",
    "    \n",
    "    len_queue_items = len(queue_items)\n",
    "    \n",
    "    for item in belt_and_queue_items:\n",
    "        i=0\n",
    "        found = False\n",
    "        print('len queue items:' + str(len_queue_items))\n",
    "\n",
    "        while ((found == False) and (i<len_queue_items)):\n",
    "            print('condition:' + str(i<len_queue_items))\n",
    "            print('i:' + str(i))\n",
    "            print(item)\n",
    "            print(queue_items[i])\n",
    "            print()\n",
    "            if item == queue_items[i]:\n",
    "                queue_items.remove(item) \n",
    "                print('removed:' + str(item))\n",
    "                found = True\n",
    "                len_queue_items = len_queue_items -1\n",
    "            i += 1\n",
    "                \n",
    "    return queue_items"
   ]
  },
  {
   "cell_type": "markdown",
   "metadata": {},
   "source": [
    "#### Make Sushi Functions"
   ]
  },
  {
   "cell_type": "markdown",
   "metadata": {},
   "source": [
    "Functions below uses click_image function to click on the ingredients of each sushi. It also reduces the used ingredients from the ingreidents dictionary."
   ]
  },
  {
   "cell_type": "code",
   "execution_count": null,
   "metadata": {
    "collapsed": true
   },
   "outputs": [],
   "source": [
    "def make_onigiri(ingredients,ingredients_threshold_0,ingredients_threshold_low):\n",
    "    ingredients = check_if_more_ingredients_needed(ingredients,ingredients_threshold_0,ingredients_threshold_low)\n",
    "    \n",
    "    print('->make onigiri')\n",
    "    click_image('rice.PNG',persistent=True)\n",
    "    click_image('rice.PNG',persistent=True)\n",
    "    click_image('nori.PNG',persistent=True)\n",
    "    click_image('roll_action.PNG')\n",
    "    \n",
    "    ingredients['rice'] = ingredients['rice'] - 2\n",
    "    ingredients['nori'] = ingredients['nori'] - 1\n",
    "    \n",
    "    print(ingredients)\n",
    "    print()\n",
    "    return ingredients\n",
    "\n",
    "def make_california_roll(ingredients,ingredients_threshold_0,ingredients_threshold_low):\n",
    "    ingredients = check_if_more_ingredients_needed(ingredients,ingredients_threshold_0,ingredients_threshold_low)\n",
    "    \n",
    "    print('->make california roll')\n",
    "    click_image('rice.PNG',persistent=True)\n",
    "    click_image('nori.PNG',persistent=True)\n",
    "    click_image('roe.PNG',persistent=True)\n",
    "    click_image('roll_action.PNG')\n",
    "    \n",
    "    ingredients['rice'] = ingredients['rice'] - 1\n",
    "    ingredients['nori'] = ingredients['nori'] - 1\n",
    "    ingredients['roe'] = ingredients['roe'] - 1\n",
    "    \n",
    "    print(ingredients)\n",
    "    print()\n",
    "    return ingredients\n",
    "\n",
    "\n",
    "def make_gunkan_maki(ingredients,ingredients_threshold_0,ingredients_threshold_low):\n",
    "    ingredients = check_if_more_ingredients_needed(ingredients,ingredients_threshold_0,ingredients_threshold_low)\n",
    "    \n",
    "    print('->make gunkan maki')\n",
    "    click_image('rice.PNG',persistent=True)\n",
    "    click_image('nori.PNG',persistent=True)\n",
    "    click_image('roe.PNG',persistent=True)\n",
    "    click_image('roe.PNG',persistent=True)\n",
    "    click_image('roll_action.PNG')\n",
    "    \n",
    "    ingredients['rice'] = ingredients['rice'] - 1\n",
    "    ingredients['nori'] = ingredients['nori'] - 1\n",
    "    ingredients['roe'] = ingredients['roe'] - 2\n",
    "    \n",
    "    print(ingredients)\n",
    "    print()\n",
    "    return ingredients\n",
    "    \n",
    "def make_salmon_roll(ingredients,ingredients_threshold_0,ingredients_threshold_low):\n",
    "    ingredients = check_if_more_ingredients_needed(ingredients,ingredients_threshold_0,ingredients_threshold_low)\n",
    "    \n",
    "    print('->make salmon roll')\n",
    "    click_image('rice.PNG',persistent=True)\n",
    "    click_image('nori.PNG',persistent=True)\n",
    "    click_image('salmon.PNG',persistent=True)\n",
    "    click_image('salmon.PNG',persistent=True)\n",
    "    click_image('roll_action.PNG',persistent=True)\n",
    "    ingredients['rice'] = ingredients['rice'] - 1\n",
    "    ingredients['nori'] = ingredients['nori'] - 1\n",
    "    ingredients['salmon'] = ingredients['salmon'] - 2\n",
    "    \n",
    "    print(ingredients)\n",
    "    print()\n",
    "    return ingredients\n",
    "\n",
    "def make_shrimp_sushi(ingredients,ingredients_threshold_0,ingredients_threshold_low):\n",
    "    ingredients = check_if_more_ingredients_needed(ingredients,ingredients_threshold_0,ingredients_threshold_low)\n",
    "    \n",
    "    print('->make shrimp sushi')\n",
    "    click_image('rice.PNG',persistent=True)\n",
    "    click_image('nori.PNG',persistent=True)\n",
    "    click_image('shrimp.PNG',persistent=True)\n",
    "    click_image('shrimp.PNG',persistent=True)\n",
    "    click_image('roll_action.PNG')\n",
    "    \n",
    "    ingredients['rice'] = ingredients['rice'] - 1\n",
    "    ingredients['nori'] = ingredients['nori'] - 1\n",
    "    ingredients['shrimp'] = ingredients['shrimp'] - 2\n",
    "    \n",
    "    print(ingredients)\n",
    "    print()\n",
    "    return ingredients\n",
    "\n",
    "def make_unagi(ingredients,ingredients_threshold_0,ingredients_threshold_low):\n",
    "    ingredients = check_if_more_ingredients_needed(ingredients,ingredients_threshold_0,ingredients_threshold_low)\n",
    "    \n",
    "    print('->make unagi')\n",
    "    click_image('rice.PNG',persistent=True)\n",
    "    click_image('nori.PNG',persistent=True)\n",
    "    click_image('unagi.PNG',persistent=True)\n",
    "    click_image('unagi.PNG',persistent=True)\n",
    "    click_image('roll_action.PNG')\n",
    "    \n",
    "    ingredients['rice'] = ingredients['rice'] - 1\n",
    "    ingredients['nori'] = ingredients['nori'] - 1\n",
    "    ingredients['unagi'] = ingredients['unagi'] - 2\n",
    "    \n",
    "    print(ingredients)\n",
    "    print()\n",
    "    return ingredients\n",
    "\n",
    "def make_dragon_roll(ingredients,ingredients_threshold_0,ingredients_threshold_low):\n",
    "    ingredients = check_if_more_ingredients_needed(ingredients,ingredients_threshold_0,ingredients_threshold_low)\n",
    "    \n",
    "    print('->make dragon roll')\n",
    "    click_image('rice.PNG',persistent=True)\n",
    "    click_image('rice.PNG',persistent=True)\n",
    "    click_image('nori.PNG',persistent=True)\n",
    "    click_image('roe.PNG',persistent=True)\n",
    "    click_image('unagi.PNG',persistent=True)\n",
    "    click_image('unagi.PNG',persistent=True)\n",
    "    click_image('roll_action.PNG')\n",
    "    \n",
    "    ingredients['rice'] = ingredients['rice'] - 2\n",
    "    ingredients['nori'] = ingredients['nori'] - 1\n",
    "    ingredients['roe'] = ingredients['roe'] - 1\n",
    "    ingredients['unagi'] = ingredients['unagi'] - 2\n",
    "    \n",
    "    print(ingredients)\n",
    "    print()\n",
    "    return ingredients\n",
    "\n",
    "def make_combo(ingredients,ingredients_threshold_0,ingredients_threshold_low):\n",
    "    ingredients = check_if_more_ingredients_needed(ingredients,ingredients_threshold_0,ingredients_threshold_low)\n",
    "    \n",
    "    print('->make combo')\n",
    "    click_image('rice.PNG',persistent=True)\n",
    "    click_image('rice.PNG',persistent=True)\n",
    "    click_image('nori.PNG',persistent=True)\n",
    "    click_image('roe.PNG',persistent=True)\n",
    "    click_image('salmon.PNG',persistent=True)\n",
    "    click_image('unagi.PNG',persistent=True)\n",
    "    click_image('shrimp.PNG',persistent=True)\n",
    "    click_image('roll_action.PNG')\n",
    "    \n",
    "    ingredients['rice'] = ingredients['rice'] - 2\n",
    "    ingredients['nori'] = ingredients['nori'] - 1\n",
    "    ingredients['roe'] = ingredients['roe'] - 1\n",
    "    ingredients['salmon'] = ingredients['salmon'] - 1\n",
    "    ingredients['unagi'] = ingredients['unagi'] - 1\n",
    "    ingredients['shrimp'] = ingredients['shrimp'] - 1\n",
    "    \n",
    "    print(ingredients)\n",
    "    print()\n",
    "    return ingredients\n"
   ]
  },
  {
   "cell_type": "markdown",
   "metadata": {},
   "source": [
    "#### Order Sushi Functions"
   ]
  },
  {
   "cell_type": "markdown",
   "metadata": {},
   "source": [
    "Functions below uses click_image function to navigate the ordering process for an ingredient. It also adds the new ingredients to the ingredients dictionary."
   ]
  },
  {
   "cell_type": "code",
   "execution_count": null,
   "metadata": {
    "collapsed": true
   },
   "outputs": [],
   "source": [
    "def order_shrimp(ingredients):\n",
    "    print('order shrimp')\n",
    "    click_image('telephone.PNG')\n",
    "    click_image('order_topping.PNG')\n",
    "    click_image('order_shrimp.PNG',persistent=True)\n",
    "    click_image('free_option.PNG')\n",
    "    \n",
    "    ingredients['shrimp'] = ingredients['shrimp'] + 5\n",
    "    \n",
    "    print(ingredients)\n",
    "    print()\n",
    "    return ingredients\n",
    "\n",
    "def order_unagi(ingredients):\n",
    "    print('order unagi')\n",
    "    click_image('telephone.PNG')\n",
    "    click_image('order_topping.PNG')\n",
    "    click_image('order_unagi.PNG',persistent=True)\n",
    "    click_image('free_option.PNG')\n",
    "    \n",
    "    ingredients['unagi'] = ingredients['unagi'] + 5\n",
    "    \n",
    "    print(ingredients)\n",
    "    print()\n",
    "    return ingredients\n",
    "\n",
    "def order_nori(ingredients):\n",
    "    print('order nori')\n",
    "    click_image('telephone.PNG')\n",
    "    click_image('order_topping.PNG')\n",
    "    click_image('order_nori.PNG',persistent=True)\n",
    "    click_image('free_option.PNG')\n",
    "    \n",
    "    ingredients['nori'] = ingredients['nori'] + 10\n",
    "    \n",
    "    print(ingredients)\n",
    "    print()\n",
    "    return ingredients\n",
    "\n",
    "def order_fish_egg(ingredients):\n",
    "    print('order fish egg')\n",
    "    click_image('telephone.PNG')\n",
    "    click_image('order_topping.PNG')\n",
    "    pyautogui.moveTo(444,216)\n",
    "    time.sleep(.1)\n",
    "    click_image('order_fish_egg.PNG',persistent=True)\n",
    "    pyautogui.moveTo(444,216)\n",
    "    time.sleep(.1)\n",
    "    click_image('free_option.PNG',persistent=True)\n",
    "    \n",
    "    ingredients['roe'] = ingredients['roe'] + 10\n",
    "    \n",
    "    print(ingredients)\n",
    "    print()\n",
    "    return ingredients\n",
    "\n",
    "\n",
    "def order_salmon(ingredients):\n",
    "    print('order salmon')\n",
    "    click_image('telephone.PNG')\n",
    "    click_image('order_topping.PNG')\n",
    "    click_image('order_salmon.PNG',persistent=True)\n",
    "    click_image('free_option.PNG')\n",
    "    \n",
    "    ingredients['salmon'] = ingredients['salmon'] + 5\n",
    "    \n",
    "    print(ingredients)\n",
    "    print()\n",
    "    return ingredients\n",
    "\n",
    "def order_rice(ingredients):\n",
    "    print('order rice')\n",
    "    click_image('telephone.PNG')\n",
    "    click_image('order_rice.PNG')\n",
    "    click_image('order_rice2.PNG',persistent=True)\n",
    "    click_image('free_option.PNG')\n",
    "    \n",
    "    ingredients['rice'] = ingredients['rice'] + 10\n",
    "    \n",
    "    print(ingredients)\n",
    "    print()\n",
    "    return ingredients"
   ]
  },
  {
   "cell_type": "markdown",
   "metadata": {},
   "source": [
    "#### Check if more ingredients are needed function"
   ]
  },
  {
   "cell_type": "markdown",
   "metadata": {},
   "source": [
    "This method checks whether we want to buy more ingredients. To determine whether we want to buy more, we input below dictionaries:\n",
    "- **ingredients_threshold_0** = the absolute minimum before we buy more of an ingredient\n",
    "- **ingredients_threshold_low** = soft cap on the minimum range before we make any purchases\n",
    "\n",
    "Above dictionaries are used in strategically at different points in the game."
   ]
  },
  {
   "cell_type": "code",
   "execution_count": null,
   "metadata": {
    "collapsed": true
   },
   "outputs": [],
   "source": [
    "def check_if_more_ingredients_needed(ingredients,ingredients_threshold_0,ingredients_threshold_low):\n",
    "    print('checking if more ingredients are needed..')\n",
    "    need_more = False\n",
    "    count_of_orders = 0\n",
    "    \n",
    "    if ingredients['nori']<=ingredients_threshold_0['nori']:\n",
    "        count_of_orders = count_of_orders + 1 \n",
    "        print('low on nori:' + str(ingredients['nori']))\n",
    "        print('threshold:' + str(ingredients_threshold_0['nori']))\n",
    "        ingredients = order_nori(ingredients)\n",
    "        print('waiting...')\n",
    "        need_more = True\n",
    "        ingredients,count_of_orders = check_if_more_ingredients_needed_w_exclusions(ingredients,ingredients_threshold_low,count_of_orders)\n",
    "    \n",
    "    elif ingredients['rice']<=ingredients_threshold_0['rice']:\n",
    "        count_of_orders = count_of_orders + 1\n",
    "        print('low on rice:' + str(ingredients['rice']))\n",
    "        print('threshold:' + str(ingredients_threshold_0['rice']))\n",
    "        ingredients = order_rice(ingredients)\n",
    "        print('waiting...')\n",
    "        need_more = True\n",
    "        ingredients,count_of_orders = check_if_more_ingredients_needed_w_exclusions(ingredients,ingredients_threshold_low,count_of_orders)\n",
    "        \n",
    "    elif ingredients['roe']<=ingredients_threshold_0['roe']:\n",
    "        count_of_orders = count_of_orders + 1\n",
    "        print('low on roe:' + str(ingredients['roe']))\n",
    "        print('threshold:' + str(ingredients_threshold_0['roe']))\n",
    "        ingredients = order_fish_egg(ingredients)\n",
    "        print('waiting...')\n",
    "        need_more = True\n",
    "        ingredients,count_of_orders = check_if_more_ingredients_needed_w_exclusions(ingredients,ingredients_threshold_low,count_of_orders)\n",
    "        \n",
    "    elif ingredients['salmon']<=ingredients_threshold_0['salmon']:\n",
    "        count_of_orders = count_of_orders + 1\n",
    "        print('low on salmon:' + str(ingredients['salmon']))\n",
    "        print('threshold:' + str(ingredients_threshold_0['salmon']))\n",
    "        ingredients = order_salmon(ingredients)\n",
    "        print('waiting...')\n",
    "        need_more = True\n",
    "        ingredients,count_of_orders = check_if_more_ingredients_needed_w_exclusions(ingredients,ingredients_threshold_low,count_of_orders)\n",
    "\n",
    "    elif ingredients['shrimp']<=ingredients_threshold_0['shrimp']:\n",
    "        count_of_orders = count_of_orders + 1\n",
    "        print('low on shrimp:' + str(ingredients['shrimp']))\n",
    "        print('threshold:' + str(ingredients_threshold_0['shrimp']))\n",
    "        ingredients = order_shrimp(ingredients)\n",
    "        print('waiting...')\n",
    "        need_more = True\n",
    "        ingredients,count_of_orders = check_if_more_ingredients_needed_w_exclusions(ingredients,ingredients_threshold_low,count_of_orders)\n",
    "        \n",
    "    elif ingredients['unagi']<=ingredients_threshold_0['unagi']:\n",
    "        count_of_orders = count_of_orders + 1\n",
    "        print('low on unagi:' + str(ingredients['unagi']))\n",
    "        print('threshold:' + str(ingredients_threshold_0['unagi']))\n",
    "        ingredients = order_unagi(ingredients)\n",
    "        print('waiting...')\n",
    "        need_more = True\n",
    "        ingredients,count_of_orders = check_if_more_ingredients_needed_w_exclusions(ingredients,ingredients_threshold_low,count_of_orders)\n",
    "\n",
    "        \n",
    "    print('count of orders:' + str(count_of_orders))\n",
    "    \n",
    "    if need_more == False:\n",
    "        print('None needed')\n",
    "        print()\n",
    "    \n",
    "    print('end check_if_more_ingredients_needed')\n",
    "    return ingredients"
   ]
  },
  {
   "cell_type": "markdown",
   "metadata": {},
   "source": [
    "#### Check if more ingredients are needed but with exclusions function"
   ]
  },
  {
   "cell_type": "markdown",
   "metadata": {},
   "source": [
    "Below function enables us to buy more ingredients given that we are waiting for another order. This uses a higher threshold than the usual for purhasing multiple items. By using this, we are saving time by stacking the amount of time loading each purchase."
   ]
  },
  {
   "cell_type": "code",
   "execution_count": null,
   "metadata": {
    "collapsed": true
   },
   "outputs": [],
   "source": [
    "def none_to_boolean(var):\n",
    "    if var == None:\n",
    "        var = False\n",
    "    else:\n",
    "        var = True\n",
    "    return var\n",
    "\n",
    "def check_if_more_ingredients_needed_w_exclusions(ingredients,ingredients_threshold_low,count_of_orders):\n",
    "    print('checking if more ingredients are needed.. (w exclusion)')\n",
    "    need_more = False\n",
    "    nori_available = pyautogui.locateOnScreen('nori.png')\n",
    "    rice_available = pyautogui.locateOnScreen('rice.png')\n",
    "    roe_available = pyautogui.locateOnScreen('roe.png')\n",
    "    salmon_available = pyautogui.locateOnScreen('salmon.png')\n",
    "    shrimp_available = pyautogui.locateOnScreen('shrimp.png')\n",
    "    unagi_available = pyautogui.locateOnScreen('unagi.png')\n",
    "    \n",
    "    nori_available = none_to_boolean(nori_available)\n",
    "    rice_available = none_to_boolean(rice_available)\n",
    "    roe_available = none_to_boolean(roe_available)\n",
    "    salmon_available = none_to_boolean(salmon_available)\n",
    "    shrimp_available = none_to_boolean(shrimp_available)\n",
    "    unagi_available = none_to_boolean(unagi_available)\n",
    "    print('done checking!')\n",
    "    \n",
    "    if nori_available == True:\n",
    "        if ingredients['nori']<=ingredients_threshold_low['nori']:\n",
    "            print('low on nori:' + str(ingredients['nori']))\n",
    "            print('threshold:' + str(ingredients_threshold_low['nori']))\n",
    "            ingredients = order_nori(ingredients)\n",
    "            print('waiting...')\n",
    "            need_more = True\n",
    "            count_of_orders = count_of_orders + 1 \n",
    "    \n",
    "    if rice_available == True:\n",
    "        if ingredients['rice']<=ingredients_threshold_low['rice']:\n",
    "            print('low on rice:' + str(ingredients['rice']))\n",
    "            print('threshold:' + str(ingredients_threshold_low['rice']))\n",
    "            ingredients = order_rice(ingredients)\n",
    "            print('waiting...')\n",
    "            need_more = True\n",
    "            count_of_orders = count_of_orders + 1\n",
    "        \n",
    "    if roe_available == True:\n",
    "        if ingredients['roe']<=ingredients_threshold_low['roe']:\n",
    "            print('low on roe:' + str(ingredients['roe']))\n",
    "            print('threshold:' + str(ingredients_threshold_low['roe']))\n",
    "            ingredients = order_fish_egg(ingredients)\n",
    "            print('waiting...')\n",
    "            need_more = True\n",
    "            count_of_orders = count_of_orders + 1\n",
    "        \n",
    "    if salmon_available == True:\n",
    "        if ingredients['salmon']<=ingredients_threshold_low['salmon']:\n",
    "            print('low on salmon:' + str(ingredients['salmon']))\n",
    "            print('threshold:' + str(ingredients_threshold_low['salmon']))\n",
    "            ingredients = order_salmon(ingredients)\n",
    "            print('waiting...')\n",
    "            need_more = True\n",
    "            count_of_orders = count_of_orders + 1\n",
    "            \n",
    "    if shrimp_available == True:\n",
    "        if ingredients['shrimp']<=ingredients_threshold_low['shrimp']:\n",
    "            print('low on shrimp:' + str(ingredients['shrimp']))\n",
    "            print('threshold:' + str(ingredients_threshold_low['shrimp']))\n",
    "            ingredients = order_shrimp(ingredients)\n",
    "            print('waiting...')\n",
    "            need_more = True\n",
    "            count_of_orders = count_of_orders + 1\n",
    "            \n",
    "    if unagi_available == True:\n",
    "        if ingredients['unagi']<=ingredients_threshold_low['unagi']:\n",
    "            print('low on unagi:' + str(ingredients['unagi']))\n",
    "            print('threshold:' + str(ingredients_threshold_low['unagi']))\n",
    "            ingredients = order_unagi(ingredients)\n",
    "            print('waiting...')\n",
    "            need_more = True\n",
    "            count_of_orders = count_of_orders + 1\n",
    "            \n",
    "    if need_more == False:\n",
    "        print('None needed')\n",
    "        print()\n",
    "    \n",
    "    print('check_if_more_ingredients_needed_w_exclusions done!')\n",
    "\n",
    "    return ingredients,count_of_orders\n"
   ]
  },
  {
   "cell_type": "markdown",
   "metadata": {},
   "source": [
    "### _Secondary Tasks_"
   ]
  },
  {
   "cell_type": "markdown",
   "metadata": {},
   "source": [
    "Below tasks are functions that perform tasks that are of secondary importance. These tasks are done in the background of the primary tasks."
   ]
  },
  {
   "cell_type": "markdown",
   "metadata": {},
   "source": [
    "#### Click all Plates"
   ]
  },
  {
   "cell_type": "code",
   "execution_count": null,
   "metadata": {
    "collapsed": true
   },
   "outputs": [],
   "source": [
    "def click_all_plates():\n",
    "    print('click all plates')\n",
    "    pyautogui.click(550,429)\n",
    "    pyautogui.click(650,427)\n",
    "    pyautogui.click(750,427)\n",
    "    pyautogui.click(850,427)\n",
    "    pyautogui.click(950,427)\n",
    "    pyautogui.click(1050,427)"
   ]
  },
  {
   "cell_type": "markdown",
   "metadata": {},
   "source": [
    "#### Click poo"
   ]
  },
  {
   "cell_type": "code",
   "execution_count": null,
   "metadata": {
    "collapsed": true
   },
   "outputs": [],
   "source": [
    "def poo_position():\n",
    "    pyautogui.screenshot('screenshot.PNG')\n",
    "    img_rgb = cv2.imread('screenshot.png')\n",
    "    template = cv2.imread('poo.png')\n",
    "    w, h = template.shape[:-1]\n",
    "\n",
    "    res = cv2.matchTemplate(img_rgb, template, cv2.TM_CCOEFF_NORMED)\n",
    "    threshold = .95\n",
    "    loc = np.where(res >= threshold)\n",
    "\n",
    "    for pt in zip(*loc[::-1]):  \n",
    "        cv2.rectangle(img_rgb, pt, (pt[0] + w, pt[1] + h), (0, 0, 255), 2)\n",
    "    \n",
    "    x,y = loc\n",
    "    counter = 0\n",
    "    \n",
    "    location_list = []\n",
    "    for i in x:\n",
    "        location_list.append([y[counter],i])\n",
    "        counter = counter +1\n",
    "\n",
    "    return location_list\n",
    "\n",
    "def click_all_poo():\n",
    "    print('searching poo...')\n",
    "    poo_loc_list = poo_position()\n",
    "    poo_loc_clickable_list = []\n",
    "\n",
    "    for poo_loc in poo_loc_list:\n",
    "        if poo_loc[1]>530:\n",
    "            poo_loc_clickable_list.append(poo_loc)\n",
    "            pyautogui.click(poo_loc[0],poo_loc[1])\n",
    "            \n",
    "    print(str(len(poo_loc_clickable_list)) + ' poo clicked')"
   ]
  },
  {
   "cell_type": "markdown",
   "metadata": {},
   "source": [
    "#### Process Function"
   ]
  },
  {
   "cell_type": "markdown",
   "metadata": {},
   "source": [
    "This function puts together both the make and order functions."
   ]
  },
  {
   "cell_type": "code",
   "execution_count": null,
   "metadata": {
    "collapsed": true
   },
   "outputs": [],
   "source": [
    "def process(ingredients,queue,ingredients_threshold_0,ingredients_threshold_low): \n",
    "    queue = ['customer' + x  for x in queue] \n",
    "    print()\n",
    "    print()\n",
    "    print()\n",
    "    print()\n",
    "    print('RESET!')\n",
    "    print()\n",
    "    print()\n",
    "    print('#################################################################')\n",
    "    print('ingredients available:')\n",
    "    print('#################################################################')\n",
    "    print(ingredients)\n",
    "    print()\n",
    "    print()\n",
    "\n",
    "    if len(queue) == 0:\n",
    "        print(\"QUEUE is empty\")\n",
    "\n",
    "    print('#################################################################')\n",
    "    print('order queue:')\n",
    "    print('#################################################################')\n",
    "    print(str(len(queue)) + ' items on queue')\n",
    "    print(queue)\n",
    "    queue_print = queue.copy()\n",
    "        \n",
    "    \n",
    "    for item in queue:\n",
    "        print()\n",
    "        print('start make:')\n",
    "        \n",
    "        if item == 'customer_onigiri.png':\n",
    "            ingredients = make_onigiri(ingredients,ingredients_threshold_0,ingredients_threshold_low)\n",
    "            click_all_plates()\n",
    "            click_all_poo()\n",
    "            del queue_print[0]\n",
    "            print('last item in queue deleted')\n",
    "            print(str(len(queue_print)) + ' items on queue remaining')\n",
    "            print(queue_print)\n",
    "        \n",
    "        elif item == 'customer_california_roll.png':\n",
    "            ingredients = make_california_roll(ingredients,ingredients_threshold_0,ingredients_threshold_low)\n",
    "            time.sleep(.1)\n",
    "            click_all_plates()\n",
    "            click_all_poo()\n",
    "            del queue_print[0]\n",
    "            print('last item in queue deleted')\n",
    "            print(str(len(queue_print)) + ' items on queue remaining')\n",
    "            print(queue_print)\n",
    "            \n",
    "        elif item == 'customer_gunkan_maki.png':\n",
    "            ingredients = make_gunkan_maki(ingredients,ingredients_threshold_0,ingredients_threshold_low)\n",
    "            click_all_plates()\n",
    "            click_all_poo()\n",
    "            del queue_print[0]\n",
    "            print('last item in queue deleted')\n",
    "            print(str(len(queue_print)) + ' items on queue remaining')\n",
    "            print(queue_print)\n",
    "            \n",
    "        elif item == 'customer_salmon_roll.png':\n",
    "            ingredients = make_salmon_roll(ingredients,ingredients_threshold_0,ingredients_threshold_low)\n",
    "            click_all_plates()  \n",
    "            click_all_poo()\n",
    "            del queue_print[0]\n",
    "            print('last item in queue deleted')\n",
    "            print(str(len(queue_print)) + ' items on queue remaining')\n",
    "            print(queue_print)\n",
    "            \n",
    "        elif item == 'customer_shrimp_sushi.png':\n",
    "            ingredients = make_shrimp_sushi(ingredients,ingredients_threshold_0,ingredients_threshold_low)\n",
    "            click_all_plates()      \n",
    "            click_all_poo()\n",
    "            del queue_print[0]\n",
    "            print('last item in queue deleted')\n",
    "            print(str(len(queue_print)) + ' items on queue remaining')\n",
    "            print(queue_print)\n",
    "            \n",
    "        elif item == 'customer_unagi_roll.png':\n",
    "            ingredients = make_unagi(ingredients,ingredients_threshold_0,ingredients_threshold_low)\n",
    "            click_all_plates() \n",
    "            click_all_poo()\n",
    "            del queue_print[0]\n",
    "            print('last item in queue deleted')\n",
    "            print(str(len(queue_print)) + ' items on queue remaining')\n",
    "            print(queue_print)\n",
    "            \n",
    "        elif item == 'customer_dragon_roll.png':\n",
    "            ingredients = make_dragon_roll(ingredients,ingredients_threshold_0,ingredients_threshold_low)\n",
    "            click_all_plates() \n",
    "            click_all_poo()\n",
    "            del queue_print[0]\n",
    "            print('last item in queue deleted')\n",
    "            print(str(len(queue_print)) + ' items on queue remaining')\n",
    "            print(queue_print)\n",
    "            \n",
    "        elif item == 'customer_combo.png':\n",
    "            ingredients = make_combo(ingredients,ingredients_threshold_0,ingredients_threshold_low)\n",
    "            click_all_plates() \n",
    "            click_all_poo()\n",
    "            del queue_print[0]\n",
    "            print('last item in queue deleted')\n",
    "            print(str(len(queue_print)) + ' items on queue remaining')\n",
    "            print(queue_print)\n",
    "            \n",
    "    print()\n",
    "    print()\n",
    "    print()\n",
    "    print('finished all orders!')\n",
    "    print(ingredients)\n",
    "    print('checking for low ingredient')\n",
    "    print('DONE!')\n",
    "    print('#################################################################')\n",
    "    print('#################################################################')"
   ]
  },
  {
   "cell_type": "markdown",
   "metadata": {},
   "source": [
    "#### Start Function"
   ]
  },
  {
   "cell_type": "markdown",
   "metadata": {},
   "source": [
    "The Start function ties together all of the functions together. Bottomline, it identifies which ingredients to make, buys more ingredients if needed and then makes them."
   ]
  },
  {
   "cell_type": "code",
   "execution_count": null,
   "metadata": {
    "collapsed": true
   },
   "outputs": [],
   "source": [
    "def start(belt_imgs,ingredients,ingredients_threshold_0,ingredients_threshold_low):\n",
    "    print('#################################################################')\n",
    "    print('#################################################################')\n",
    "    print('#################################################################')\n",
    "    print('#################################################################')\n",
    "    print('Start!')\n",
    "    while True:\n",
    "        queue = check_belt_customer(belt_imgs,'customer')\n",
    "        \n",
    "        if queue.empty:\n",
    "            print('queue is empty')\n",
    "            break\n",
    "        \n",
    "        print('all customer orders:')\n",
    "        print(list(queue['type']))\n",
    "        \n",
    "        \n",
    "            \n",
    "        belt_and_queue = check_belt_customer(list(set(list(queue['type']))),'belt')\n",
    "        \n",
    "        queue_items = list(queue['type'])\n",
    "        if belt_and_queue.empty:\n",
    "            print('nothing in common')\n",
    "            belt_and_queue_items = []\n",
    "        else:\n",
    "            belt_and_queue_items = list(belt_and_queue['type'])\n",
    "        \n",
    "        print('belf and queue intersection:')\n",
    "        print(belt_and_queue_items)\n",
    "        \n",
    "        queue = queue_and_belt_match(queue_items,belt_and_queue_items)\n",
    "    \n",
    "        process(ingredients,queue,ingredients_threshold_0,ingredients_threshold_low)\n",
    "        print()\n",
    "        print()\n",
    "        \n",
    "    \n",
    "    time.sleep(5)\n",
    "    click_all_plates()\n",
    "    print('END PROGRAM')"
   ]
  },
  {
   "cell_type": "markdown",
   "metadata": {},
   "source": [
    "#### Parameters"
   ]
  },
  {
   "cell_type": "markdown",
   "metadata": {},
   "source": [
    "Playing around with the parameters can yield different performance for each level."
   ]
  },
  {
   "cell_type": "code",
   "execution_count": null,
   "metadata": {
    "collapsed": true
   },
   "outputs": [],
   "source": [
    "ingredients_threshold_0 = {'shrimp': 2,\n",
    "                        'rice': 1,\n",
    "                        'nori': 1,\n",
    "                        'roe': 2,\n",
    "                        'salmon': 2,\n",
    "                        'unagi': 2}\n",
    "\n",
    "ingredients_threshold_low = {'shrimp': 3,\n",
    "                        'rice': 5,\n",
    "                        'nori': 5,\n",
    "                        'roe': 5,\n",
    "                        'salmon': 3,\n",
    "                        'unagi': 3}"
   ]
  },
  {
   "cell_type": "markdown",
   "metadata": {},
   "source": [
    "#### Start Function (Runs the whole thing)"
   ]
  },
  {
   "cell_type": "code",
   "execution_count": null,
   "metadata": {},
   "outputs": [],
   "source": [
    "start(belt_imgs,ingredients,ingredients_threshold_0,ingredients_threshold_low)"
   ]
  }
 ],
 "metadata": {
  "kernelspec": {
   "display_name": "Python 3",
   "language": "python",
   "name": "python3"
  },
  "language_info": {
   "codemirror_mode": {
    "name": "ipython",
    "version": 3
   },
   "file_extension": ".py",
   "mimetype": "text/x-python",
   "name": "python",
   "nbconvert_exporter": "python",
   "pygments_lexer": "ipython3",
   "version": "3.5.3"
  }
 },
 "nbformat": 4,
 "nbformat_minor": 2
}
